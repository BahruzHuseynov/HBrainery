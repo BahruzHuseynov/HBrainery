{
  "nbformat": 4,
  "nbformat_minor": 0,
  "metadata": {
    "colab": {
      "provenance": [],
      "authorship_tag": "ABX9TyO98wx0EuhIR44dpdFCj0sx",
      "include_colab_link": true
    },
    "kernelspec": {
      "name": "python3",
      "display_name": "Python 3"
    },
    "language_info": {
      "name": "python"
    }
  },
  "cells": [
    {
      "cell_type": "markdown",
      "metadata": {
        "id": "view-in-github",
        "colab_type": "text"
      },
      "source": [
        "<a href=\"https://colab.research.google.com/github/BahruzHuseynov/HBrainery/blob/main/Deep_Learning_Projects/CNN_Architecture/Tensorflow/CNN1_LeNet5.ipynb\" target=\"_parent\"><img src=\"https://colab.research.google.com/assets/colab-badge.svg\" alt=\"Open In Colab\"/></a>"
      ]
    },
    {
      "cell_type": "markdown",
      "source": [
        "# LeNet-5"
      ],
      "metadata": {
        "id": "MA0eQ-3gmrTy"
      }
    },
    {
      "cell_type": "markdown",
      "source": [
        "<img src = \"https://raw.githubusercontent.com/valoxe/image-storage-1/master/research-paper-summary/lenet-5/2.png?token=AMAXSKIFVOFJARUUJULNGWS6WMEQG\">"
      ],
      "metadata": {
        "id": "r132vM9Ymxci"
      }
    },
    {
      "cell_type": "markdown",
      "source": [
        "<img src = \"https://www.philschmid.de/static/blog/getting-started-with-cnn-by-calculating-lenet-layer-manually/lenet-5.svg\">"
      ],
      "metadata": {
        "id": "zn6OR6VhmzIZ"
      }
    },
    {
      "cell_type": "markdown",
      "source": [
        "### Import Libraries"
      ],
      "metadata": {
        "id": "kNmJ1qZ-riw3"
      }
    },
    {
      "cell_type": "code",
      "source": [
        "import tensorflow as tf\n",
        "from tensorflow import keras\n",
        "from keras import Model, Sequential, layers, optimizers, losses, metrics\n",
        "from keras.datasets import mnist"
      ],
      "metadata": {
        "id": "nTkEJ46EmwUu"
      },
      "execution_count": 15,
      "outputs": []
    },
    {
      "cell_type": "markdown",
      "source": [
        "### Dataset Download and Normalization"
      ],
      "metadata": {
        "id": "T_AoJDmQrlt_"
      }
    },
    {
      "cell_type": "code",
      "source": [
        "(x_train, y_train), (x_test, y_test) = keras.datasets.mnist.load_data()"
      ],
      "metadata": {
        "id": "zBpu7b45nSyb"
      },
      "execution_count": 16,
      "outputs": []
    },
    {
      "cell_type": "code",
      "source": [
        "def format(data):\n",
        "    return data / 255.0\n",
        "\n",
        "x_train = format(x_train)\n",
        "x_test = format(x_test)"
      ],
      "metadata": {
        "id": "02oaBbP2qRRh"
      },
      "execution_count": 17,
      "outputs": []
    },
    {
      "cell_type": "markdown",
      "source": [
        "### Model Building"
      ],
      "metadata": {
        "id": "4B6oxPpXrqWC"
      }
    },
    {
      "cell_type": "code",
      "source": [
        "class LeNet5(Model):\n",
        "    def __init__(self, num_classes, in_channels = 1):\n",
        "        super(LeNet5, self).__init__()\n",
        "        self.seq = Sequential(\n",
        "            [\n",
        "                layers.Input(shape=(28, 28, in_channels)),\n",
        "                layers.Conv2D(6, kernel_size = 5, strides = 1, activation = 'tanh'),\n",
        "                layers.AveragePooling2D(2, strides = 2),\n",
        "                layers.Conv2D(16, 5, strides = 1, activation = 'tanh'),\n",
        "                layers.AveragePooling2D(2, strides = 2),\n",
        "                layers.Flatten(),\n",
        "                layers.Dense(120, activation = 'tanh'),\n",
        "                layers.Dense(84, activation = 'tanh'),\n",
        "                layers.Dense(num_classes, activation = 'softmax')\n",
        "            ]\n",
        "        )\n",
        "\n",
        "    def call(self, x):\n",
        "        return self.seq(x)"
      ],
      "metadata": {
        "id": "E3KjiUIIoJwT"
      },
      "execution_count": 18,
      "outputs": []
    },
    {
      "cell_type": "markdown",
      "source": [
        "### Training and Validating"
      ],
      "metadata": {
        "id": "39P1D4jdrum0"
      }
    },
    {
      "cell_type": "code",
      "source": [
        "model = LeNet5(10)\n",
        "optimizer = optimizers.Adam(learning_rate = 0.001)\n",
        "loss = keras.losses.SparseCategoricalCrossentropy()\n",
        "metrics = [keras.metrics.SparseCategoricalAccuracy()]\n",
        "\n",
        "model.compile(optimizer, loss, metrics)"
      ],
      "metadata": {
        "id": "JL3x7FUyqw9c"
      },
      "execution_count": 19,
      "outputs": []
    },
    {
      "cell_type": "code",
      "source": [
        "model.fit(x_train, y_train, epochs = 5, validation_data = (x_test, y_test))"
      ],
      "metadata": {
        "colab": {
          "base_uri": "https://localhost:8080/"
        },
        "id": "aUaxuv7apvsB",
        "outputId": "6e648f00-05c5-44d3-bec4-5319e4ae3e65"
      },
      "execution_count": 20,
      "outputs": [
        {
          "output_type": "stream",
          "name": "stdout",
          "text": [
            "Epoch 1/5\n",
            "1875/1875 [==============================] - 30s 15ms/step - loss: 0.2393 - sparse_categorical_accuracy: 0.9285 - val_loss: 0.1095 - val_sparse_categorical_accuracy: 0.9664\n",
            "Epoch 2/5\n",
            "1875/1875 [==============================] - 27s 14ms/step - loss: 0.0905 - sparse_categorical_accuracy: 0.9722 - val_loss: 0.0673 - val_sparse_categorical_accuracy: 0.9796\n",
            "Epoch 3/5\n",
            "1875/1875 [==============================] - 33s 17ms/step - loss: 0.0616 - sparse_categorical_accuracy: 0.9803 - val_loss: 0.0502 - val_sparse_categorical_accuracy: 0.9840\n",
            "Epoch 4/5\n",
            "1875/1875 [==============================] - 29s 16ms/step - loss: 0.0476 - sparse_categorical_accuracy: 0.9855 - val_loss: 0.0536 - val_sparse_categorical_accuracy: 0.9820\n",
            "Epoch 5/5\n",
            "1875/1875 [==============================] - 29s 15ms/step - loss: 0.0402 - sparse_categorical_accuracy: 0.9869 - val_loss: 0.0479 - val_sparse_categorical_accuracy: 0.9849\n"
          ]
        },
        {
          "output_type": "execute_result",
          "data": {
            "text/plain": [
              "<keras.src.callbacks.History at 0x79e0222dcb20>"
            ]
          },
          "metadata": {},
          "execution_count": 20
        }
      ]
    },
    {
      "cell_type": "code",
      "source": [
        "model.summary()"
      ],
      "metadata": {
        "colab": {
          "base_uri": "https://localhost:8080/"
        },
        "id": "DSy9h0vtrPFN",
        "outputId": "9b597b0e-59d4-4b05-ca66-dd391e29db0d"
      },
      "execution_count": 21,
      "outputs": [
        {
          "output_type": "stream",
          "name": "stdout",
          "text": [
            "Model: \"le_net5_2\"\n",
            "_________________________________________________________________\n",
            " Layer (type)                Output Shape              Param #   \n",
            "=================================================================\n",
            " sequential_2 (Sequential)   (None, 10)                44426     \n",
            "                                                                 \n",
            "=================================================================\n",
            "Total params: 44426 (173.54 KB)\n",
            "Trainable params: 44426 (173.54 KB)\n",
            "Non-trainable params: 0 (0.00 Byte)\n",
            "_________________________________________________________________\n"
          ]
        }
      ]
    }
  ]
}